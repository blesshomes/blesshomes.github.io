{
  "nbformat": 4,
  "nbformat_minor": 0,
  "metadata": {
    "colab": {
      "name": "What is pytorch.ipynb",
      "version": "0.3.2",
      "provenance": [],
      "collapsed_sections": [],
      "include_colab_link": true
    },
    "kernelspec": {
      "name": "python3",
      "display_name": "Python 3"
    },
    "accelerator": "TPU"
  },
  "cells": [
    {
      "cell_type": "markdown",
      "metadata": {
        "id": "view-in-github",
        "colab_type": "text"
      },
      "source": [
        "<a href=\"https://colab.research.google.com/github/blesshomes/blesshomes.github.io/blob/master/What_is_pytorch.ipynb\" target=\"_parent\"><img src=\"https://colab.research.google.com/assets/colab-badge.svg\" alt=\"Open In Colab\"/></a>"
      ]
    },
    {
      "cell_type": "code",
      "metadata": {
        "id": "O8K7FYjax_mi",
        "colab_type": "code",
        "colab": {}
      },
      "source": [
        "from __future__ import print_function\n",
        "import torch"
      ],
      "execution_count": 0,
      "outputs": []
    },
    {
      "cell_type": "markdown",
      "metadata": {
        "id": "JuPncIg_7YL0",
        "colab_type": "text"
      },
      "source": [
        "# 手始め"
      ]
    },
    {
      "cell_type": "code",
      "metadata": {
        "id": "D5ClW2fszXhE",
        "colab_type": "code",
        "colab": {
          "base_uri": "https://localhost:8080/",
          "height": 102
        },
        "outputId": "c87b934b-3feb-4e11-f285-d4295181dff2"
      },
      "source": [
        "x = torch.empty(5,3)\n",
        "print(x)"
      ],
      "execution_count": 3,
      "outputs": [
        {
          "output_type": "stream",
          "text": [
            "tensor([[1.1163e-35, 0.0000e+00, 3.3631e-44],\n",
            "        [0.0000e+00,        nan, 0.0000e+00],\n",
            "        [1.1578e+27, 1.1362e+30, 7.1547e+22],\n",
            "        [4.5828e+30, 1.2121e+04, 7.1846e+22],\n",
            "        [9.2198e-39, 0.0000e+00, 0.0000e+00]])\n"
          ],
          "name": "stdout"
        }
      ]
    },
    {
      "cell_type": "code",
      "metadata": {
        "id": "tNEEyQRq0XNr",
        "colab_type": "code",
        "colab": {
          "base_uri": "https://localhost:8080/",
          "height": 102
        },
        "outputId": "f3eb2a50-3849-42c8-945c-4b4829880f2d"
      },
      "source": [
        "x = torch.rand(5,3)\n",
        "print(x)"
      ],
      "execution_count": 4,
      "outputs": [
        {
          "output_type": "stream",
          "text": [
            "tensor([[0.9227, 0.3514, 0.5696],\n",
            "        [0.3784, 0.5228, 0.1202],\n",
            "        [0.2681, 0.6402, 0.9505],\n",
            "        [0.7573, 0.5865, 0.6637],\n",
            "        [0.2363, 0.0187, 0.2884]])\n"
          ],
          "name": "stdout"
        }
      ]
    },
    {
      "cell_type": "code",
      "metadata": {
        "id": "mZ1gvEzD0dLW",
        "colab_type": "code",
        "colab": {
          "base_uri": "https://localhost:8080/",
          "height": 102
        },
        "outputId": "fae444f6-d04d-40b6-f3d7-2c1b18911406"
      },
      "source": [
        "x = torch.zeros(5, 3, dtype=torch.long)\n",
        "print(x)"
      ],
      "execution_count": 5,
      "outputs": [
        {
          "output_type": "stream",
          "text": [
            "tensor([[0, 0, 0],\n",
            "        [0, 0, 0],\n",
            "        [0, 0, 0],\n",
            "        [0, 0, 0],\n",
            "        [0, 0, 0]])\n"
          ],
          "name": "stdout"
        }
      ]
    },
    {
      "cell_type": "code",
      "metadata": {
        "id": "CMGCREu70nLW",
        "colab_type": "code",
        "colab": {
          "base_uri": "https://localhost:8080/",
          "height": 34
        },
        "outputId": "13906ac9-a301-4235-ea53-9e9b91ad2b98"
      },
      "source": [
        "x = torch.tensor([5.5, 3]) #pytorchはダイレクトに行列を作れる\n",
        "print(x)"
      ],
      "execution_count": 6,
      "outputs": [
        {
          "output_type": "stream",
          "text": [
            "tensor([5.5000, 3.0000])\n"
          ],
          "name": "stdout"
        }
      ]
    },
    {
      "cell_type": "code",
      "metadata": {
        "id": "61_6982g0sUt",
        "colab_type": "code",
        "colab": {
          "base_uri": "https://localhost:8080/",
          "height": 102
        },
        "outputId": "eb631171-4cab-4323-b0d0-d9813f75de55"
      },
      "source": [
        "x = x.new_ones(5, 3, dtype=torch.double) #行列xを1で埋める（double型）\n",
        "print(x)"
      ],
      "execution_count": 11,
      "outputs": [
        {
          "output_type": "stream",
          "text": [
            "tensor([[1., 1., 1.],\n",
            "        [1., 1., 1.],\n",
            "        [1., 1., 1.],\n",
            "        [1., 1., 1.],\n",
            "        [1., 1., 1.]], dtype=torch.float64)\n"
          ],
          "name": "stdout"
        }
      ]
    },
    {
      "cell_type": "code",
      "metadata": {
        "id": "MeFGPSYm1g85",
        "colab_type": "code",
        "colab": {
          "base_uri": "https://localhost:8080/",
          "height": 102
        },
        "outputId": "4638d121-c130-4ebf-a6d9-c95016edc7ea"
      },
      "source": [
        "x = torch.randn_like(x, dtype=torch.float) #行列xを平均0,分散1の正規分布で埋める。型の変換も同時に行える。\n",
        "print(x)"
      ],
      "execution_count": 12,
      "outputs": [
        {
          "output_type": "stream",
          "text": [
            "tensor([[-0.2996, -1.1762, -0.4174],\n",
            "        [-0.0438,  0.8004, -0.7810],\n",
            "        [ 0.2450, -0.1718,  1.4304],\n",
            "        [ 0.6248, -1.5019, -1.0005],\n",
            "        [-2.3013, -0.6940,  0.0817]])\n"
          ],
          "name": "stdout"
        }
      ]
    },
    {
      "cell_type": "code",
      "metadata": {
        "id": "D-skDgQ22D62",
        "colab_type": "code",
        "colab": {
          "base_uri": "https://localhost:8080/",
          "height": 34
        },
        "outputId": "0ad86e70-299b-433d-8670-ce1e33cfa522"
      },
      "source": [
        "print(x.size()) #.sizeでサイズが求まる"
      ],
      "execution_count": 16,
      "outputs": [
        {
          "output_type": "stream",
          "text": [
            "torch.Size([5, 3])\n"
          ],
          "name": "stdout"
        }
      ]
    },
    {
      "cell_type": "code",
      "metadata": {
        "id": "Tx3-NWuv2wwt",
        "colab_type": "code",
        "colab": {
          "base_uri": "https://localhost:8080/",
          "height": 102
        },
        "outputId": "e5e7e779-893d-40b9-bf8e-ac0cc4f2456d"
      },
      "source": [
        "y = torch.rand(5, 3)\n",
        "print(x+y) #\"+\"で加算"
      ],
      "execution_count": 17,
      "outputs": [
        {
          "output_type": "stream",
          "text": [
            "tensor([[ 0.3052, -1.0776, -0.3033],\n",
            "        [ 0.2580,  0.8498,  0.1163],\n",
            "        [ 0.8517, -0.0884,  1.8198],\n",
            "        [ 1.3014, -0.6735, -0.8348],\n",
            "        [-1.9255, -0.0579,  1.0026]])\n"
          ],
          "name": "stdout"
        }
      ]
    },
    {
      "cell_type": "code",
      "metadata": {
        "id": "UADGt6bT3IYt",
        "colab_type": "code",
        "colab": {
          "base_uri": "https://localhost:8080/",
          "height": 102
        },
        "outputId": "3d3945e9-ed91-4b60-8b73-b43465cdbc47"
      },
      "source": [
        "print(torch.add(x,y)) #torch.add()でも加算が計算可能"
      ],
      "execution_count": 18,
      "outputs": [
        {
          "output_type": "stream",
          "text": [
            "tensor([[ 0.3052, -1.0776, -0.3033],\n",
            "        [ 0.2580,  0.8498,  0.1163],\n",
            "        [ 0.8517, -0.0884,  1.8198],\n",
            "        [ 1.3014, -0.6735, -0.8348],\n",
            "        [-1.9255, -0.0579,  1.0026]])\n"
          ],
          "name": "stdout"
        }
      ]
    },
    {
      "cell_type": "code",
      "metadata": {
        "id": "O7nGWnsT3WuG",
        "colab_type": "code",
        "colab": {
          "base_uri": "https://localhost:8080/",
          "height": 102
        },
        "outputId": "ecaec361-68a7-431b-88df-dc6fcc162070"
      },
      "source": [
        "result = torch.empty(5, 3)\n",
        "torch.add(x, y, out=result) #引数にout=を持ってくると結果を代入できる\n",
        "print(result)"
      ],
      "execution_count": 20,
      "outputs": [
        {
          "output_type": "stream",
          "text": [
            "tensor([[ 0.3052, -1.0776, -0.3033],\n",
            "        [ 0.2580,  0.8498,  0.1163],\n",
            "        [ 0.8517, -0.0884,  1.8198],\n",
            "        [ 1.3014, -0.6735, -0.8348],\n",
            "        [-1.9255, -0.0579,  1.0026]])\n"
          ],
          "name": "stdout"
        }
      ]
    },
    {
      "cell_type": "code",
      "metadata": {
        "id": "v-jn3rbG4DWw",
        "colab_type": "code",
        "colab": {
          "base_uri": "https://localhost:8080/",
          "height": 102
        },
        "outputId": "2f0e1612-6d4a-4e8a-dca3-2c4d78e7057a"
      },
      "source": [
        "y.add_(x) #後から数値を加算させたい時に有効か\n",
        "print(y)"
      ],
      "execution_count": 21,
      "outputs": [
        {
          "output_type": "stream",
          "text": [
            "tensor([[ 0.3052, -1.0776, -0.3033],\n",
            "        [ 0.2580,  0.8498,  0.1163],\n",
            "        [ 0.8517, -0.0884,  1.8198],\n",
            "        [ 1.3014, -0.6735, -0.8348],\n",
            "        [-1.9255, -0.0579,  1.0026]])\n"
          ],
          "name": "stdout"
        }
      ]
    },
    {
      "cell_type": "code",
      "metadata": {
        "id": "uSl6jxFW4lJd",
        "colab_type": "code",
        "colab": {
          "base_uri": "https://localhost:8080/",
          "height": 34
        },
        "outputId": "26b08034-bf7c-4fff-9ac3-cf8bb9aad579"
      },
      "source": [
        "print(x[:, 1]) #indexの取り扱いはnumpyと同様！"
      ],
      "execution_count": 22,
      "outputs": [
        {
          "output_type": "stream",
          "text": [
            "tensor([-1.1762,  0.8004, -0.1718, -1.5019, -0.6940])\n"
          ],
          "name": "stdout"
        }
      ]
    },
    {
      "cell_type": "code",
      "metadata": {
        "id": "HIoS8wW95Arv",
        "colab_type": "code",
        "colab": {
          "base_uri": "https://localhost:8080/",
          "height": 34
        },
        "outputId": "b62ad67c-c9a3-483a-c865-ed46fa72e680"
      },
      "source": [
        "x = torch.randn(4, 4)\n",
        "y = x.view(16) #.viewでreshapeすることができる\n",
        "z = x.view(-1, 8)\n",
        "print(x.size(), y.size(), z.size())"
      ],
      "execution_count": 23,
      "outputs": [
        {
          "output_type": "stream",
          "text": [
            "torch.Size([4, 4]) torch.Size([16]) torch.Size([2, 8])\n"
          ],
          "name": "stdout"
        }
      ]
    },
    {
      "cell_type": "code",
      "metadata": {
        "id": "Wwe5xPih5nWd",
        "colab_type": "code",
        "colab": {
          "base_uri": "https://localhost:8080/",
          "height": 51
        },
        "outputId": "99901924-11c1-4d58-fc80-441eea1166fb"
      },
      "source": [
        "x = torch.randn(1) \n",
        "print(x)\n",
        "print(x.item())　#たった一個の数字なら.itemで数値を抜き取れる"
      ],
      "execution_count": 26,
      "outputs": [
        {
          "output_type": "stream",
          "text": [
            "tensor([-0.9300])\n",
            "-0.9300071597099304\n"
          ],
          "name": "stdout"
        }
      ]
    },
    {
      "cell_type": "markdown",
      "metadata": {
        "id": "vVoO3LL27cwg",
        "colab_type": "text"
      },
      "source": [
        "# Numpyとのスイッチ"
      ]
    },
    {
      "cell_type": "markdown",
      "metadata": {
        "id": "pvZ9ixxI75cS",
        "colab_type": "text"
      },
      "source": [
        "## Torch tensorをNumPy arrayに"
      ]
    },
    {
      "cell_type": "code",
      "metadata": {
        "id": "G-vNA5bD6AIs",
        "colab_type": "code",
        "colab": {
          "base_uri": "https://localhost:8080/",
          "height": 34
        },
        "outputId": "4384fb72-270e-4466-d291-bad18d2a0ffe"
      },
      "source": [
        "a = torch.ones(5)\n",
        "print(a)"
      ],
      "execution_count": 27,
      "outputs": [
        {
          "output_type": "stream",
          "text": [
            "tensor([1., 1., 1., 1., 1.])\n"
          ],
          "name": "stdout"
        }
      ]
    },
    {
      "cell_type": "code",
      "metadata": {
        "id": "klBHgXXw7uc0",
        "colab_type": "code",
        "colab": {
          "base_uri": "https://localhost:8080/",
          "height": 34
        },
        "outputId": "7d8a9138-00e7-4761-fcf1-8a7a416b6b3c"
      },
      "source": [
        "b = a.numpy() #.numpy()とするだけ！！\n",
        "print(b)"
      ],
      "execution_count": 28,
      "outputs": [
        {
          "output_type": "stream",
          "text": [
            "[1. 1. 1. 1. 1.]\n"
          ],
          "name": "stdout"
        }
      ]
    },
    {
      "cell_type": "code",
      "metadata": {
        "id": "EkDqT9Bd7xkk",
        "colab_type": "code",
        "colab": {
          "base_uri": "https://localhost:8080/",
          "height": 51
        },
        "outputId": "e06dd4b9-a3a4-4756-fd97-122e04931d5b"
      },
      "source": [
        "a.add_(1)\n",
        "print(a)\n",
        "print(b) #何と変更は自動的に反映される"
      ],
      "execution_count": 29,
      "outputs": [
        {
          "output_type": "stream",
          "text": [
            "tensor([2., 2., 2., 2., 2.])\n",
            "[2. 2. 2. 2. 2.]\n"
          ],
          "name": "stdout"
        }
      ]
    },
    {
      "cell_type": "markdown",
      "metadata": {
        "id": "tI9EIHQE8KNn",
        "colab_type": "text"
      },
      "source": [
        "## NumPy arrayをTorch tensorに"
      ]
    },
    {
      "cell_type": "code",
      "metadata": {
        "id": "h_wHzz9M720l",
        "colab_type": "code",
        "colab": {
          "base_uri": "https://localhost:8080/",
          "height": 51
        },
        "outputId": "4d2db019-207e-4d2b-e7d5-3eb35dd4bd4e"
      },
      "source": [
        "import numpy as np\n",
        "a = np.ones(5)\n",
        "b = torch.from_numpy(a)　#torch.from_numpy()、ととても自然な変換\n",
        "np.add(a, 1, out=a)\n",
        "print(a)\n",
        "print(b)"
      ],
      "execution_count": 30,
      "outputs": [
        {
          "output_type": "stream",
          "text": [
            "[2. 2. 2. 2. 2.]\n",
            "tensor([2., 2., 2., 2., 2.], dtype=torch.float64)\n"
          ],
          "name": "stdout"
        }
      ]
    },
    {
      "cell_type": "markdown",
      "metadata": {
        "id": "xYtDBDUZ8YXu",
        "colab_type": "text"
      },
      "source": [
        "# CUDA Tensors (?)"
      ]
    },
    {
      "cell_type": "code",
      "metadata": {
        "id": "9QnUxGdo8blv",
        "colab_type": "code",
        "colab": {}
      },
      "source": [
        "#どういうこっちゃ"
      ],
      "execution_count": 0,
      "outputs": []
    },
    {
      "cell_type": "code",
      "metadata": {
        "id": "n8tmskFO8evm",
        "colab_type": "code",
        "colab": {}
      },
      "source": [
        "#CUDA環境だとそっちを使う時は環境を変えるコードがあるということか\n",
        "if torch.cuda.is_available():\n",
        "    device = torch.device(\"cuda\")\n",
        "    y = torch.ones_like(x, device=device)  \n",
        "    x = x.to(device)                       \n",
        "    z = x + y\n",
        "    print(z)\n",
        "    print(z.to(\"cpu\", torch.double)) "
      ],
      "execution_count": 0,
      "outputs": []
    }
  ]
}